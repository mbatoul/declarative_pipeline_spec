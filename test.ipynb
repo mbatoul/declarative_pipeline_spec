{
 "cells": [
  {
   "cell_type": "code",
   "execution_count": 8,
   "id": "2600f2da",
   "metadata": {},
   "outputs": [],
   "source": [
    "import yaml\n",
    "from pprint import pprint"
   ]
  },
  {
   "cell_type": "code",
   "execution_count": 6,
   "id": "ee858246",
   "metadata": {},
   "outputs": [],
   "source": [
    "with open(\"pipeline.yml\", \"r\") as f:\n",
    "    pipeline = yaml.load(f,  Loader=yaml.FullLoader)"
   ]
  },
  {
   "cell_type": "code",
   "execution_count": 9,
   "id": "67c6a3da",
   "metadata": {},
   "outputs": [
    {
     "name": "stdout",
     "output_type": "stream",
     "text": [
      "[{'downloader': 'sklearn.datasets.fetch_openml',\n",
      "  'kwargs': {'as_frame': True, 'version': 2}},\n",
      " {'target_column': 'count', 'transformations': [{'divide_by': 1000}]},\n",
      " {'kwargs': {'inplace': True, 'to_replace': 'heavy_rain', 'value': 'rain'},\n",
      "  'replace': 'weather'},\n",
      " {'kwargs': {'gap': 48,\n",
      "             'max_train_size': 10000,\n",
      "             'n_splits': 5,\n",
      "             'test_size': 1000},\n",
      "  'splitter': 'sklearn.model_selection.TimeSeriesSplit'},\n",
      " {'pipeline': [{'column_transformer': {'transformers': [{'columns': ['weather',\n",
      "                                                                     'season',\n",
      "                                                                     'holiday',\n",
      "                                                                     'workingday'],\n",
      "                                                         'name': 'categorical',\n",
      "                                                         'transformer': 'sklearn.preprocessing.OrdinalEncoder'}]}}]}]\n"
     ]
    }
   ],
   "source": [
    "pprint(pipeline)"
   ]
  },
  {
   "cell_type": "code",
   "execution_count": 10,
   "id": "e1c8e8ad",
   "metadata": {},
   "outputs": [
    {
     "data": {
      "text/plain": [
       "array([1.00000000e-06, 3.16227766e-06, 1.00000000e-05, 3.16227766e-05,\n",
       "       1.00000000e-04, 3.16227766e-04, 1.00000000e-03, 3.16227766e-03,\n",
       "       1.00000000e-02, 3.16227766e-02, 1.00000000e-01, 3.16227766e-01,\n",
       "       1.00000000e+00, 3.16227766e+00, 1.00000000e+01, 3.16227766e+01,\n",
       "       1.00000000e+02, 3.16227766e+02, 1.00000000e+03, 3.16227766e+03,\n",
       "       1.00000000e+04, 3.16227766e+04, 1.00000000e+05, 3.16227766e+05,\n",
       "       1.00000000e+06])"
      ]
     },
     "execution_count": 10,
     "metadata": {},
     "output_type": "execute_result"
    }
   ],
   "source": [
    "import numpy as np\n",
    "np.logspace(-6, 6, 25)"
   ]
  }
 ],
 "metadata": {
  "kernelspec": {
   "display_name": "Python 3 (ipykernel)",
   "language": "python",
   "name": "python3"
  },
  "language_info": {
   "codemirror_mode": {
    "name": "ipython",
    "version": 3
   },
   "file_extension": ".py",
   "mimetype": "text/x-python",
   "name": "python",
   "nbconvert_exporter": "python",
   "pygments_lexer": "ipython3",
   "version": "3.9.6"
  }
 },
 "nbformat": 4,
 "nbformat_minor": 5
}
